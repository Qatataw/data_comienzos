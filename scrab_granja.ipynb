{
 "cells": [
  {
   "cell_type": "code",
   "execution_count": 102,
   "metadata": {},
   "outputs": [],
   "source": [
    "import requests\n",
    "from bs4 import BeautifulSoup\n",
    "import re\n",
    "import pandas as pd\n",
    "\n",
    "URL = \"https://lagranjadelcentro.com.ar/productos.php\"\n",
    "page = requests.get(URL)\n",
    "web = 'https://lagranjadelcentro.com.ar'\n",
    "soup = BeautifulSoup(page.content, \"html.parser\")"
   ]
  },
  {
   "cell_type": "code",
   "execution_count": 103,
   "metadata": {},
   "outputs": [
    {
     "name": "stdout",
     "output_type": "stream",
     "text": [
      "11\n"
     ]
    }
   ],
   "source": [
    "producto = soup.find_all(\"p\", class_=\"p-menu\")\n",
    "categoria = []\n",
    "for i in producto:\n",
    "    categoria.append(i.text.strip())\n",
    "\n",
    "categoria =  categoria[0:11]\n",
    "print(len(categoria))\n",
    "  \n",
    "                    "
   ]
  },
  {
   "cell_type": "code",
   "execution_count": 104,
   "metadata": {},
   "outputs": [
    {
     "name": "stdout",
     "output_type": "stream",
     "text": [
      "11\n"
     ]
    }
   ],
   "source": [
    "links = []   \n",
    "for link in soup.find_all('a', \n",
    "                          attrs={'href': re.compile(\"id_cat\")}):\n",
    "    links.append(web + link.get('href').strip())  \n",
    "\n",
    "links = links[0:11]\n",
    "print(len(links))"
   ]
  },
  {
   "cell_type": "code",
   "execution_count": 105,
   "metadata": {},
   "outputs": [
    {
     "name": "stdout",
     "output_type": "stream",
     "text": [
      "Alimentos para celíacos / diabéticos https://lagranjadelcentro.com.ar/productos.php?id_cat=1\n",
      "Cereales inflados y para desayunos https://lagranjadelcentro.com.ar/productos.php?id_cat=2\n",
      "Cereales, legumbres y harinas https://lagranjadelcentro.com.ar/productos.php?id_cat=3\n",
      "Consumo masivo https://lagranjadelcentro.com.ar/productos.php?id_cat=4\n",
      "Especias, verduras deshidratadas https://lagranjadelcentro.com.ar/productos.php?id_cat=5\n",
      "Frutas secas y desecadas https://lagranjadelcentro.com.ar/productos.php?id_cat=6\n",
      "Hierbas aromáticas https://lagranjadelcentro.com.ar/productos.php?id_cat=7\n",
      "Nutricion Deportiva https://lagranjadelcentro.com.ar/productos.php?id_cat=8\n",
      "Repostería https://lagranjadelcentro.com.ar/productos.php?id_cat=9\n",
      "Suplementos dietarios https://lagranjadelcentro.com.ar/productos.php?id_cat=10\n",
      "Yerba Mate, tes, infusiones https://lagranjadelcentro.com.ar/productos.php?id_cat=11\n"
     ]
    }
   ],
   "source": [
    "cat_link = dict(zip(categoria, links))\n",
    "for key, value in cat_link.items():\n",
    "    print(key, value)\n"
   ]
  },
  {
   "cell_type": "code",
   "execution_count": 109,
   "metadata": {},
   "outputs": [],
   "source": [
    "URL = \"https://lagranjadelcentro.com.ar/productos.php?id_cat=1\"\n",
    "page = requests.get(URL)\n",
    "soup = BeautifulSoup(page.content, \"html.parser\")\n",
    "marca=[]\n",
    "producto=[]\n",
    "precio=[] \n",
    "\n",
    "\n",
    "for a in soup.find_all('a',href=True, attrs={'class':'_31qSD5'}):\n",
    "    producto=a.find('div', attrs={'class':'_3wU53n'})\n",
    "    precio=a.find('div', attrs={'class':'_1vC4OE _2rQ-NK'})\n",
    "    marca=a.find('div', attrs={'class':'hGSR34 _2beYZw'})\n",
    "    \n",
    "    producto.append(producto.text)\n",
    "    precio.append(precio.text)\n",
    "    marca.append( marca.text) \n",
    "  \n"
   ]
  },
  {
   "cell_type": "code",
   "execution_count": null,
   "metadata": {},
   "outputs": [],
   "source": [
    "df = pd.DataFrame({'Marca':marca},'Producto':producto,'Precio':precio,) \n",
    "df.to_csv('LaGranka.csv', index=False, encoding='utf-8')"
   ]
  }
 ],
 "metadata": {
  "kernelspec": {
   "display_name": "env",
   "language": "python",
   "name": "python3"
  },
  "language_info": {
   "codemirror_mode": {
    "name": "ipython",
    "version": 3
   },
   "file_extension": ".py",
   "mimetype": "text/x-python",
   "name": "python",
   "nbconvert_exporter": "python",
   "pygments_lexer": "ipython3",
   "version": "3.10.11"
  },
  "orig_nbformat": 4
 },
 "nbformat": 4,
 "nbformat_minor": 2
}
